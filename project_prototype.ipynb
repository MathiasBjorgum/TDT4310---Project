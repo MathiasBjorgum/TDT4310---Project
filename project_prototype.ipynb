{
 "cells": [
  {
   "cell_type": "code",
   "execution_count": 1,
   "metadata": {},
   "outputs": [
    {
     "name": "stderr",
     "output_type": "stream",
     "text": [
      "C:\\Users\\mathi\\.conda\\envs\\nltk_torch\\lib\\site-packages\\tqdm\\auto.py:22: TqdmWarning:\n",
      "\n",
      "IProgress not found. Please update jupyter and ipywidgets. See https://ipywidgets.readthedocs.io/en/stable/user_install.html\n",
      "\n"
     ]
    }
   ],
   "source": [
    "import pandas as pd\n",
    "import os, sys\n",
    "import nltk\n",
    "import re\n",
    "# import seaborn as sns\n",
    "sys.path.append(\".\")\n",
    "import preprocessing.cleaning_functions\n",
    "from sklearn.feature_extraction.text import CountVectorizer, TfidfVectorizer\n",
    "\n",
    "# from wordcloud import WordCloud\n",
    "\n",
    "import matplotlib.gridspec as gridspec\n",
    "from matplotlib.ticker import MaxNLocator\n",
    "import matplotlib.patches as mpatches\n",
    "import matplotlib.pyplot as plt\n",
    "\n",
    "import plotly.express as px\n",
    "from plotly.subplots import make_subplots\n",
    "import plotly.graph_objects as go\n",
    "from plotly.offline import plot\n",
    "\n",
    "import torch\n",
    "\n",
    "\n",
    "cwd = os.getcwd()\n",
    "data_path = os.path.join(cwd, \"data\")"
   ]
  },
  {
   "cell_type": "markdown",
   "metadata": {},
   "source": [
    "## Tripadvisor data"
   ]
  },
  {
   "cell_type": "code",
   "execution_count": 16,
   "metadata": {},
   "outputs": [
    {
     "data": {
      "text/plain": [
       "5    9054\n",
       "4    6039\n",
       "3    2184\n",
       "2    1793\n",
       "1    1421\n",
       "Name: Rating, dtype: int64"
      ]
     },
     "execution_count": 16,
     "metadata": {},
     "output_type": "execute_result"
    }
   ],
   "source": [
    "tripadvisor_df = pd.read_csv(os.path.join(data_path,\"tripadvisor_hotel_reviews.csv\"))\n",
    "tripadvisor_df[\"Rating\"].value_counts()"
   ]
  },
  {
   "cell_type": "markdown",
   "metadata": {},
   "source": [
    "We can see that the dataset is unbalanced, with much higher numbers for the higher grades. To make this a binary classification problem, i choose to count the numbers above 3 as positive (1) and the numbers 3 and below negative (0)."
   ]
  },
  {
   "cell_type": "code",
   "execution_count": 17,
   "metadata": {},
   "outputs": [],
   "source": [
    "tripadvisor_df[\"sentiment\"] = pd.cut(x = tripadvisor_df[\"Rating\"], bins = [0, 3, 6], labels = [0, 1])\n",
    "value_counts = tripadvisor_df[\"sentiment\"].value_counts()\n",
    "tripadvisor_df = tripadvisor_df.rename(columns={\"Review\":\"review\", \"Rating\":\"rating\"})"
   ]
  },
  {
   "cell_type": "code",
   "execution_count": 18,
   "metadata": {},
   "outputs": [],
   "source": [
    "# fig = px.histogram(tripadvisor_df, x=\"sentiment\", width=500, height=250)\n",
    "# fig.update_layout(bargap=0.3)\n",
    "# fig.show()"
   ]
  },
  {
   "cell_type": "markdown",
   "metadata": {},
   "source": [
    "This plot illustrates that the data is unbalanced. By looking into some of the reviews it looks like the reviews are not complete sentences."
   ]
  },
  {
   "cell_type": "code",
   "execution_count": 19,
   "metadata": {},
   "outputs": [],
   "source": [
    "X = tripadvisor_df[\"review\"].copy()\n",
    "y = tripadvisor_df[\"sentiment\"].copy()"
   ]
  },
  {
   "cell_type": "code",
   "execution_count": 20,
   "metadata": {},
   "outputs": [
    {
     "data": {
      "text/plain": [
       "0    nice hotel expensive parking got good deal sta...\n",
       "1    ok nothing special charge diamond member hilto...\n",
       "2    nice rooms * experience hotel monaco seattle g...\n",
       "3    unique, great stay, wonderful time hotel monac...\n",
       "4    great stay great stay, went seahawk game aweso...\n",
       "Name: review, dtype: object"
      ]
     },
     "execution_count": 20,
     "metadata": {},
     "output_type": "execute_result"
    }
   ],
   "source": [
    "X_clean = X.apply(preprocessing.cleaning_functions.clean_data)\n",
    "X_clean.head()"
   ]
  },
  {
   "cell_type": "code",
   "execution_count": null,
   "metadata": {},
   "outputs": [],
   "source": [
    "# from transf"
   ]
  }
 ],
 "metadata": {
  "interpreter": {
   "hash": "6b8f20c097e32b53f09a95007ec526e0eb5f6178dd7117c218d8f10eacb6c81e"
  },
  "kernelspec": {
   "display_name": "Python 3.10.2 ('nltk')",
   "language": "python",
   "name": "python3"
  },
  "language_info": {
   "codemirror_mode": {
    "name": "ipython",
    "version": 3
   },
   "file_extension": ".py",
   "mimetype": "text/x-python",
   "name": "python",
   "nbconvert_exporter": "python",
   "pygments_lexer": "ipython3",
   "version": "3.10.4"
  },
  "orig_nbformat": 4
 },
 "nbformat": 4,
 "nbformat_minor": 2
}
